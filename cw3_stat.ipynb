{
 "cells": [
  {
   "cell_type": "code",
   "execution_count": 21,
   "id": "57124ffb",
   "metadata": {},
   "outputs": [],
   "source": [
    "import numpy as np\n",
    "import pandas as pd\n",
    "from scipy.stats import ttest_1samp\n",
    "from scipy.stats import shapiro\n",
    "from scipy.stats import ttest_ind\n",
    "from scipy.stats import levene\n",
    "from scipy.stats import ttest_rel"
   ]
  },
  {
   "cell_type": "code",
   "execution_count": 2,
   "id": "bdc6737b",
   "metadata": {},
   "outputs": [
    {
     "data": {
      "text/plain": [
       "array([ 50.73036091, -16.35269241, -13.84515257, -30.18905866,\n",
       "        27.96222888, -67.04616091,  54.34435293, -20.83620703,\n",
       "        11.57117288,  -5.48111126,  45.86323811, -59.80422128,\n",
       "        -7.67251612,  -9.52163064,  36.01308327, -30.99673802,\n",
       "        -3.17284623, -24.33575254,   3.2664124 ,  19.48445641,\n",
       "       -31.01857532,  36.3417113 ,  29.04772162,  17.07483017,\n",
       "        29.02567848, -18.51183578,  -1.68670677, -26.07308303,\n",
       "        -6.03664239,  17.910664  , -18.74982255,  -9.90260581,\n",
       "       -18.615181  , -23.35616924, -18.13738393,   1.62006203,\n",
       "       -31.51931046,   9.03247093,  51.79406531,  24.26132482,\n",
       "        -3.75506657, -24.62886892, -20.41474881,  52.77363803,\n",
       "         3.52423264, -17.1098694 ,   7.72746454,  65.00765409,\n",
       "         5.60476857,  20.51609329,  11.0051096 ,  -8.56749539,\n",
       "       -32.27554594,  -8.48028167,  -4.266827  ,  19.59869574,\n",
       "        27.16950242,  29.93306244,  10.56761976,  28.55423493,\n",
       "       -20.63193823,  39.58604466,  17.38789461,  -6.94278505,\n",
       "        16.6555444 ,  -0.26715139,  35.94888162,  47.59450449,\n",
       "        67.5672622 , -39.89489006, -41.32341416, -13.13397589,\n",
       "         6.80111208,  28.28506763,  11.46904842, -58.66603647,\n",
       "        -7.18612038,  26.83923928,   8.90284206,  24.86033541,\n",
       "        -4.66984428,  -4.02274207,   7.59684173,  14.30154942,\n",
       "         7.9489916 ,   5.57025937, -18.11986859,  13.32691359,\n",
       "         5.65463813,  35.88451724,  37.9675364 ,   7.55469252,\n",
       "        -9.2585485 , -17.16191222,  14.70483062,   4.32020205,\n",
       "        -8.31561027,   3.30790571, -16.60002532,  22.94096102,\n",
       "       -11.41385694,  38.73523114,  14.10474925,  19.8073557 ,\n",
       "       -30.84735537,   7.08147299,  24.21669353, -26.61101805,\n",
       "        -5.98655518,   2.9784364 , -39.19351961,  11.45478176,\n",
       "        27.38481943, -23.78547822,  12.51637936, -37.36850234,\n",
       "         0.83913472, -46.47317064,  35.64253125,  14.26701614,\n",
       "         1.26149132, -21.25484858,  40.2126779 ,  61.01305248,\n",
       "       -53.73945593,  39.08492091,  50.82952259,  12.1403509 ,\n",
       "       -33.97804097,  27.90035953,  -3.42760906, -16.11761883,\n",
       "       -34.90174407,  18.51612488,  25.78420598, -16.70592189,\n",
       "        17.61729011, -32.33024169,  26.05583096,   3.39701895,\n",
       "        -3.59709316,  -1.05237618,  28.06658471,  24.5123492 ,\n",
       "        17.88395973,   6.1310363 ,   4.33463384,  20.55140786,\n",
       "         8.97483678,  22.47654221,  -7.30350321, -71.04513292,\n",
       "        33.16473806,  67.60938941,  15.24093331,  -1.004657  ,\n",
       "        -2.09334232,  -1.57162563,   2.52228225, -31.66056186,\n",
       "       -13.51283374, -27.91080483,   9.46397484,  -6.89923457,\n",
       "        16.85633972,  -3.24109479,  31.59005563,   8.40601704,\n",
       "        67.72099187, -54.89082769, -17.40750065,  29.04460675,\n",
       "        77.8497712 ,  -5.45904333,   3.3100698 ,  -4.78942728,\n",
       "        41.94371338,  -6.6192359 ,  22.4020952 ,  -7.59404797,\n",
       "       -36.17676266,  11.40643161,  17.0955444 ,  40.79677648,\n",
       "        -1.31341079, -16.52086191,  18.8828329 ,   9.22211277,\n",
       "        10.41995231,  -0.19338111,  36.8101571 ,  13.08478149,\n",
       "        59.13976125,  35.33170096,  21.77149388, -46.82315022,\n",
       "        20.06957841,  14.60846611,  26.32855018,  33.33326284])"
      ]
     },
     "execution_count": 2,
     "metadata": {},
     "output_type": "execute_result"
    }
   ],
   "source": [
    "np.random.seed(1)\n",
    "srednia_populacji = 2\n",
    "odchylenie_populacji = 30\n",
    "liczba_elementow = 200\n",
    "srednia_hipotetyczna = 2.5\n",
    "probka = np.random.normal(srednia_populacji, odchylenie_populacji, liczba_elementow)\n",
    "probka"
   ]
  },
  {
   "cell_type": "code",
   "execution_count": 3,
   "id": "7404b475",
   "metadata": {},
   "outputs": [
    {
     "name": "stdout",
     "output_type": "stream",
     "text": [
      "Test t: 1.3954445165130651\n",
      "p: 0.16443703335466406\n"
     ]
    }
   ],
   "source": [
    "t_value, p_value = ttest_1samp(probka, srednia_hipotetyczna)\n",
    "print(f\"Test t: {t_value}\")\n",
    "print(f\"p: {p_value}\")"
   ]
  },
  {
   "cell_type": "code",
   "execution_count": 4,
   "id": "1553b58d",
   "metadata": {},
   "outputs": [],
   "source": [
    "# Jeśli przyjmiemy poziom istotności 0.05, to nie ma podstaw do odrzucenia hipotezy zerowej"
   ]
  },
  {
   "cell_type": "code",
   "execution_count": 5,
   "id": "f71b13df",
   "metadata": {},
   "outputs": [
    {
     "data": {
      "text/html": [
       "<div>\n",
       "<style scoped>\n",
       "    .dataframe tbody tr th:only-of-type {\n",
       "        vertical-align: middle;\n",
       "    }\n",
       "\n",
       "    .dataframe tbody tr th {\n",
       "        vertical-align: top;\n",
       "    }\n",
       "\n",
       "    .dataframe thead th {\n",
       "        text-align: right;\n",
       "    }\n",
       "</style>\n",
       "<table border=\"1\" class=\"dataframe\">\n",
       "  <thead>\n",
       "    <tr style=\"text-align: right;\">\n",
       "      <th></th>\n",
       "      <th>mies</th>\n",
       "      <th>rok</th>\n",
       "      <th>pepsi</th>\n",
       "      <th>fanta</th>\n",
       "      <th>żywiec</th>\n",
       "      <th>okocim</th>\n",
       "      <th>regionalne</th>\n",
       "      <th>cola</th>\n",
       "      <th>lech</th>\n",
       "    </tr>\n",
       "  </thead>\n",
       "  <tbody>\n",
       "    <tr>\n",
       "      <th>0</th>\n",
       "      <td>1</td>\n",
       "      <td>2001</td>\n",
       "      <td>108447</td>\n",
       "      <td>43302</td>\n",
       "      <td>186385</td>\n",
       "      <td>54301</td>\n",
       "      <td>45065</td>\n",
       "      <td>227013</td>\n",
       "      <td>56306</td>\n",
       "    </tr>\n",
       "    <tr>\n",
       "      <th>1</th>\n",
       "      <td>2</td>\n",
       "      <td>2001</td>\n",
       "      <td>105439</td>\n",
       "      <td>46711</td>\n",
       "      <td>168782</td>\n",
       "      <td>68131</td>\n",
       "      <td>43933</td>\n",
       "      <td>221115</td>\n",
       "      <td>67212</td>\n",
       "    </tr>\n",
       "    <tr>\n",
       "      <th>2</th>\n",
       "      <td>3</td>\n",
       "      <td>2001</td>\n",
       "      <td>111675</td>\n",
       "      <td>36029</td>\n",
       "      <td>172186</td>\n",
       "      <td>63104</td>\n",
       "      <td>46663</td>\n",
       "      <td>222812</td>\n",
       "      <td>67398</td>\n",
       "    </tr>\n",
       "    <tr>\n",
       "      <th>3</th>\n",
       "      <td>4</td>\n",
       "      <td>2001</td>\n",
       "      <td>113232</td>\n",
       "      <td>33659</td>\n",
       "      <td>172445</td>\n",
       "      <td>50871</td>\n",
       "      <td>45195</td>\n",
       "      <td>238631</td>\n",
       "      <td>57100</td>\n",
       "    </tr>\n",
       "    <tr>\n",
       "      <th>4</th>\n",
       "      <td>5</td>\n",
       "      <td>2001</td>\n",
       "      <td>110274</td>\n",
       "      <td>40853</td>\n",
       "      <td>174526</td>\n",
       "      <td>67924</td>\n",
       "      <td>47926</td>\n",
       "      <td>222963</td>\n",
       "      <td>65001</td>\n",
       "    </tr>\n",
       "    <tr>\n",
       "      <th>...</th>\n",
       "      <td>...</td>\n",
       "      <td>...</td>\n",
       "      <td>...</td>\n",
       "      <td>...</td>\n",
       "      <td>...</td>\n",
       "      <td>...</td>\n",
       "      <td>...</td>\n",
       "      <td>...</td>\n",
       "      <td>...</td>\n",
       "    </tr>\n",
       "    <tr>\n",
       "      <th>187</th>\n",
       "      <td>8</td>\n",
       "      <td>2016</td>\n",
       "      <td>105949</td>\n",
       "      <td>43017</td>\n",
       "      <td>169329</td>\n",
       "      <td>64262</td>\n",
       "      <td>58101</td>\n",
       "      <td>222531</td>\n",
       "      <td>58037</td>\n",
       "    </tr>\n",
       "    <tr>\n",
       "      <th>188</th>\n",
       "      <td>9</td>\n",
       "      <td>2016</td>\n",
       "      <td>103420</td>\n",
       "      <td>44310</td>\n",
       "      <td>173923</td>\n",
       "      <td>67591</td>\n",
       "      <td>44565</td>\n",
       "      <td>230270</td>\n",
       "      <td>65156</td>\n",
       "    </tr>\n",
       "    <tr>\n",
       "      <th>189</th>\n",
       "      <td>10</td>\n",
       "      <td>2016</td>\n",
       "      <td>120363</td>\n",
       "      <td>50688</td>\n",
       "      <td>175856</td>\n",
       "      <td>63791</td>\n",
       "      <td>51376</td>\n",
       "      <td>247155</td>\n",
       "      <td>59276</td>\n",
       "    </tr>\n",
       "    <tr>\n",
       "      <th>190</th>\n",
       "      <td>11</td>\n",
       "      <td>2016</td>\n",
       "      <td>101215</td>\n",
       "      <td>41924</td>\n",
       "      <td>175914</td>\n",
       "      <td>62570</td>\n",
       "      <td>59505</td>\n",
       "      <td>240524</td>\n",
       "      <td>61765</td>\n",
       "    </tr>\n",
       "    <tr>\n",
       "      <th>191</th>\n",
       "      <td>12</td>\n",
       "      <td>2016</td>\n",
       "      <td>114300</td>\n",
       "      <td>42314</td>\n",
       "      <td>178209</td>\n",
       "      <td>65923</td>\n",
       "      <td>58508</td>\n",
       "      <td>223129</td>\n",
       "      <td>68106</td>\n",
       "    </tr>\n",
       "  </tbody>\n",
       "</table>\n",
       "<p>192 rows × 9 columns</p>\n",
       "</div>"
      ],
      "text/plain": [
       "     mies   rok   pepsi  fanta   żywiec  okocim  regionalne    cola   lech\n",
       "0       1  2001  108447   43302  186385   54301       45065  227013  56306\n",
       "1       2  2001  105439   46711  168782   68131       43933  221115  67212\n",
       "2       3  2001  111675   36029  172186   63104       46663  222812  67398\n",
       "3       4  2001  113232   33659  172445   50871       45195  238631  57100\n",
       "4       5  2001  110274   40853  174526   67924       47926  222963  65001\n",
       "..    ...   ...     ...     ...     ...     ...         ...     ...    ...\n",
       "187     8  2016  105949   43017  169329   64262       58101  222531  58037\n",
       "188     9  2016  103420   44310  173923   67591       44565  230270  65156\n",
       "189    10  2016  120363   50688  175856   63791       51376  247155  59276\n",
       "190    11  2016  101215   41924  175914   62570       59505  240524  61765\n",
       "191    12  2016  114300   42314  178209   65923       58508  223129  68106\n",
       "\n",
       "[192 rows x 9 columns]"
      ]
     },
     "execution_count": 5,
     "metadata": {},
     "output_type": "execute_result"
    }
   ],
   "source": [
    "df = pd.read_csv('napoje.csv', sep = ';')\n",
    "df"
   ]
  },
  {
   "cell_type": "code",
   "execution_count": 6,
   "id": "4879492a",
   "metadata": {},
   "outputs": [
    {
     "name": "stdout",
     "output_type": "stream",
     "text": [
      "p dla lecha: 0.10130442686854728\n",
      "p dla coli: 1.2249714535216756e-09\n",
      "p dla piw regionalnych: 2.2572528828603765e-41\n"
     ]
    }
   ],
   "source": [
    "srednia_lech = 60500\n",
    "srednia_cola = 222000\n",
    "srednia_regionalne = 43500\n",
    "statystyka_lech, p_value_lech = ttest_1samp(df['lech'], srednia_lech)\n",
    "statystyka_cola, p_value_cola = ttest_1samp(df['cola'], srednia_cola)\n",
    "statystyka_regionalne, p_value_regionalne = ttest_1samp(df['regionalne'], srednia_regionalne)\n",
    "\n",
    "print(f'p dla lecha: {p_value_lech}')\n",
    "print(f'p dla coli: {p_value_cola}')\n",
    "print(f'p dla piw regionalnych: {p_value_regionalne}')"
   ]
  },
  {
   "cell_type": "code",
   "execution_count": 7,
   "id": "e0028413",
   "metadata": {},
   "outputs": [],
   "source": [
    "# Dla lecha nie ma podstaw do odrzucenia hipotezy przy istotności 0.05, a dla coli i piw regionalnych odrzucamy (bo p<0.05)"
   ]
  },
  {
   "cell_type": "code",
   "execution_count": 10,
   "id": "3f4cf242",
   "metadata": {},
   "outputs": [
    {
     "name": "stdout",
     "output_type": "stream",
     "text": [
      "Hipoteza - rozkłąd jest normalny\n",
      "\n",
      "Zmienna: mies\n",
      "Test: 0.9405028820037842\n",
      "p: 4.075907327205641e-07\n",
      "Odrzucamy hipotezę zerową\n",
      "\n",
      "Zmienna: rok\n",
      "Test: 0.9462482333183289\n",
      "p: 1.3102297771183657e-06\n",
      "Odrzucamy hipotezę zerową\n",
      "\n",
      "Zmienna: pepsi\n",
      "Test: 0.9912384748458862\n",
      "p: 0.2968809902667999\n",
      "Nie ma podstaw do odrzucenia hipotezy zerowej\n",
      "\n",
      "Zmienna: fanta \n",
      "Test: 0.9894830584526062\n",
      "p: 0.17036965489387512\n",
      "Nie ma podstaw do odrzucenia hipotezy zerowej\n",
      "\n",
      "Zmienna: żywiec\n",
      "Test: 0.9913601875305176\n",
      "p: 0.3080885708332062\n",
      "Nie ma podstaw do odrzucenia hipotezy zerowej\n",
      "\n",
      "Zmienna: okocim\n",
      "Test: 0.9875098466873169\n",
      "p: 0.08890535682439804\n",
      "Nie ma podstaw do odrzucenia hipotezy zerowej\n",
      "\n",
      "Zmienna: regionalne\n",
      "Test: 0.936504602432251\n",
      "p: 1.8769230791804148e-07\n",
      "Odrzucamy hipotezę zerową\n",
      "\n",
      "Zmienna: cola\n",
      "Test: 0.993564248085022\n",
      "p: 0.5694407224655151\n",
      "Nie ma podstaw do odrzucenia hipotezy zerowej\n",
      "\n",
      "Zmienna: lech\n",
      "Test: 0.9936927556991577\n",
      "p: 0.5875554084777832\n",
      "Nie ma podstaw do odrzucenia hipotezy zerowej\n",
      "\n"
     ]
    }
   ],
   "source": [
    "zmienne = df.columns\n",
    "print('Hipoteza - rozkłąd jest normalny',  end='\\n\\n')\n",
    "for zmienna in zmienne:\n",
    "    test, p_value = shapiro(df[zmienna])\n",
    "    print(f'Zmienna: {zmienna}')\n",
    "    print(f'Test: {test}')\n",
    "    print(f'p: {p_value}')\n",
    "    if p_value < 0.05:\n",
    "        print('Odrzucamy hipotezę zerową', end='\\n\\n')\n",
    "    else:\n",
    "        print('Nie ma podstaw do odrzucenia hipotezy zerowej', end='\\n\\n')"
   ]
  },
  {
   "cell_type": "code",
   "execution_count": 12,
   "id": "525138ad",
   "metadata": {},
   "outputs": [
    {
     "name": "stdout",
     "output_type": "stream",
     "text": [
      "0.4057078093583594\n",
      "1.097001288015355e-24\n",
      "0.0\n"
     ]
    }
   ],
   "source": [
    "stat_okocim_lech, p_value_okocim_lech = ttest_ind(df['okocim'], df['lech'])\n",
    "stat_fanta_regionalne, p_value_fanta_regionalne = ttest_ind(df['fanta '], df['regionalne'])\n",
    "stat_cola_pepsi, p_value_cola_pepsi = ttest_ind(df['cola'], df['pepsi'])\n",
    "print(p_value_okocim_lech)\n",
    "print(p_value_fanta_regionalne)\n",
    "print(p_value_cola_pepsi)"
   ]
  },
  {
   "cell_type": "code",
   "execution_count": 13,
   "id": "69c832f1",
   "metadata": {},
   "outputs": [],
   "source": [
    "#Hipoteza o równości średnich nie zostaje odrzucona tylko dla pary okocim - lech"
   ]
  },
  {
   "cell_type": "code",
   "execution_count": 16,
   "id": "9d344588",
   "metadata": {},
   "outputs": [
    {
     "name": "stdout",
     "output_type": "stream",
     "text": [
      "0.2757791126546958\n",
      "0.22513624629834209\n",
      "3.275749775904902e-18\n"
     ]
    }
   ],
   "source": [
    "stat_okocim_lech, p_value_okocim_lech = levene(df['okocim'], df['lech'])\n",
    "stat_zywiec_fanta, p_value_zywiec_fanta = levene(df['żywiec'], df['fanta '])\n",
    "stat_regionalne_cola, p_value_regionalne_cola = levene(df['regionalne'], df['cola'])\n",
    "print(p_value_okocim_lech)\n",
    "print(p_value_zywiec_fanta)\n",
    "print(p_value_regionalne_cola)"
   ]
  },
  {
   "cell_type": "code",
   "execution_count": 17,
   "id": "74c14028",
   "metadata": {},
   "outputs": [],
   "source": [
    "#Odrzucamy hipotezę o równości wariancji tylko dla pary piwa regionalne i cola"
   ]
  },
  {
   "cell_type": "code",
   "execution_count": 19,
   "id": "04b61a20",
   "metadata": {},
   "outputs": [
    {
     "name": "stdout",
     "output_type": "stream",
     "text": [
      "0.0016000242362201897\n"
     ]
    }
   ],
   "source": [
    "regionalne_2001 = df[df['rok'] == 2001]['regionalne']\n",
    "regionalne_2015 = df[df['rok'] == 2015]['regionalne']\n",
    "stat_regionalne, p_value_regionalne = ttest_ind(regionalne_2001, regionalne_2015)\n",
    "print(p_value_regionalne)"
   ]
  },
  {
   "cell_type": "code",
   "execution_count": 20,
   "id": "93b5fdb2",
   "metadata": {},
   "outputs": [],
   "source": [
    "#Odrzucamy hipotezę o równości średnich"
   ]
  },
  {
   "cell_type": "code",
   "execution_count": 24,
   "id": "11046a46",
   "metadata": {},
   "outputs": [
    {
     "name": "stdout",
     "output_type": "stream",
     "text": [
      "0.9141373808316627\n",
      "0.7550366759257837\n",
      "0.8411601080767367\n"
     ]
    }
   ],
   "source": [
    "po_reklamie = pd.read_csv('napoje_po_reklamie.csv', sep = ';')\n",
    "cola_2016 = df[df['rok'] == 2016]['cola']\n",
    "fanta_2016 = df[df['rok'] == 2016]['fanta ']\n",
    "pepsi_2016 = df[df['rok'] == 2016]['pepsi']\n",
    "coli_po_reklamie = po_reklamie['cola']\n",
    "fanta_po_reklamie = po_reklamie['fanta ']\n",
    "pepsi_po_reklamie = po_reklamie['pepsi']\n",
    "stat_cola, p_value_cola = ttest_rel(cola_2016, coli_po_reklamie)\n",
    "stat_fanta, p_value_fanta = ttest_rel(fanta_2016, fanta_po_reklamie)\n",
    "stat_pepsi, p_value_pepsi = ttest_rel(pepsi_2016, pepsi_po_reklamie)\n",
    "print(p_value_cola)\n",
    "print(p_value_fanta)\n",
    "print(p_value_pepsi)"
   ]
  },
  {
   "cell_type": "code",
   "execution_count": null,
   "id": "5e0ea8dd",
   "metadata": {},
   "outputs": [],
   "source": [
    "#Nie ma podstaw do odrzucenia jakiejkolwiek średniej"
   ]
  }
 ],
 "metadata": {
  "kernelspec": {
   "display_name": "Python 3",
   "language": "python",
   "name": "python3"
  },
  "language_info": {
   "codemirror_mode": {
    "name": "ipython",
    "version": 3
   },
   "file_extension": ".py",
   "mimetype": "text/x-python",
   "name": "python",
   "nbconvert_exporter": "python",
   "pygments_lexer": "ipython3",
   "version": "3.8.8"
  }
 },
 "nbformat": 4,
 "nbformat_minor": 5
}
