{
 "cells": [
  {
   "cell_type": "code",
   "execution_count": 1,
   "id": "8741f947",
   "metadata": {},
   "outputs": [],
   "source": [
    "import numpy as np"
   ]
  },
  {
   "cell_type": "code",
   "execution_count": 2,
   "id": "8215f81a",
   "metadata": {},
   "outputs": [],
   "source": [
    "#Zadanie1"
   ]
  },
  {
   "cell_type": "code",
   "execution_count": 3,
   "id": "a7722021",
   "metadata": {},
   "outputs": [
    {
     "name": "stdout",
     "output_type": "stream",
     "text": [
      "Średnia: 3.5\n",
      "Wariancja: 2.9166666666666665\n",
      "Odchylenie standardowe: 1.707825127659933\n"
     ]
    }
   ],
   "source": [
    "wartosci = np.array([1, 2, 3, 4, 5, 6])\n",
    "prawdopodobienstwa = np.array([1/6, 1/6, 1/6, 1/6, 1/6, 1/6])\n",
    "\n",
    "srednia = np.sum(wartosci * prawdopodobienstwa)\n",
    "wariancja = np.sum(prawdopodobienstwa * (wartosci - srednia)**2)\n",
    "odchylenie_standardowe = np.sqrt(wariancja)\n",
    "\n",
    "print(\"Średnia:\", srednia)\n",
    "print(\"Wariancja:\", wariancja)\n",
    "print(\"Odchylenie standardowe:\", odchylenie_standardowe)"
   ]
  },
  {
   "cell_type": "code",
   "execution_count": 4,
   "id": "c0b27b81",
   "metadata": {},
   "outputs": [],
   "source": [
    "#Zadanie2"
   ]
  },
  {
   "cell_type": "code",
   "execution_count": 5,
   "id": "8d420dd2",
   "metadata": {},
   "outputs": [],
   "source": [
    "np.random.seed(42)\n",
    "\n",
    "próba_bernoulli = np.random.binomial(n=1, p=0.3, size=100)"
   ]
  },
  {
   "cell_type": "code",
   "execution_count": 6,
   "id": "c1a73d3b",
   "metadata": {},
   "outputs": [],
   "source": [
    "próba_dwumianowy = np.random.binomial(n=10, p=0.5, size=100)"
   ]
  },
  {
   "cell_type": "code",
   "execution_count": 7,
   "id": "94d308b6",
   "metadata": {},
   "outputs": [],
   "source": [
    "próba_poisson = np.random.poisson(lam=3, size=100)"
   ]
  },
  {
   "cell_type": "code",
   "execution_count": 8,
   "id": "2f43162c",
   "metadata": {},
   "outputs": [],
   "source": [
    "#Zadanie3\n",
    "import pandas as pd"
   ]
  },
  {
   "cell_type": "code",
   "execution_count": 9,
   "id": "60e94c5f",
   "metadata": {},
   "outputs": [],
   "source": [
    "def statystyki(seria):\n",
    "    print(f'Średnia: {pd.Series(seria).describe()[1]}')\n",
    "    print(f'Wariancja: {pd.Series(seria).describe()[2]}')\n",
    "    print(f'Kurtoza: {pd.Series(seria).kurtosis()}')\n",
    "    print(f'Skośność: {pd.Series(seria).skew()}')\n"
   ]
  },
  {
   "cell_type": "code",
   "execution_count": 10,
   "id": "9af766b5",
   "metadata": {},
   "outputs": [
    {
     "name": "stdout",
     "output_type": "stream",
     "text": [
      "Średnia: 0.3\n",
      "Wariancja: 0.4605661864718381\n",
      "Kurtoza: -1.239818460521174\n",
      "Skośność: 0.8862206503539751\n"
     ]
    }
   ],
   "source": [
    "statystyki(próba_bernoulli)"
   ]
  },
  {
   "cell_type": "code",
   "execution_count": 11,
   "id": "441253e3",
   "metadata": {},
   "outputs": [
    {
     "name": "stdout",
     "output_type": "stream",
     "text": [
      "Średnia: 4.97\n",
      "Wariancja: 1.5469422429523036\n",
      "Kurtoza: -0.5705659008301076\n",
      "Skośność: -0.13274274004412623\n"
     ]
    }
   ],
   "source": [
    "statystyki(próba_dwumianowy)"
   ]
  },
  {
   "cell_type": "code",
   "execution_count": 12,
   "id": "ecff5704",
   "metadata": {},
   "outputs": [
    {
     "name": "stdout",
     "output_type": "stream",
     "text": [
      "Średnia: 2.98\n",
      "Wariancja: 2.136645156607087\n",
      "Kurtoza: -0.4440057234587984\n",
      "Skośność: 0.495705787053723\n"
     ]
    }
   ],
   "source": [
    "statystyki(próba_poisson)"
   ]
  },
  {
   "cell_type": "code",
   "execution_count": 13,
   "id": "49ae5e09",
   "metadata": {},
   "outputs": [],
   "source": [
    "#Zadanie4"
   ]
  },
  {
   "cell_type": "code",
   "execution_count": 14,
   "id": "eee05090",
   "metadata": {},
   "outputs": [],
   "source": [
    "import matplotlib.pyplot as plt\n",
    "from scipy.stats import bernoulli, binom, poisson"
   ]
  },
  {
   "cell_type": "code",
   "execution_count": 15,
   "id": "5534c59c",
   "metadata": {},
   "outputs": [],
   "source": [
    "p_bernoulli = 0.3\n",
    "n_dwumianowy = 10\n",
    "p_dwumianowy = 0.5\n",
    "lambda_poisson = 3\n",
    "\n",
    "x_bernoulli = [0, 1]\n",
    "x_dwumianowy = np.arange(0, n_dwumianowy + 1)\n",
    "x_poisson = np.arange(0, 15)"
   ]
  },
  {
   "cell_type": "code",
   "execution_count": 16,
   "id": "934ed55d",
   "metadata": {},
   "outputs": [
    {
     "data": {
      "image/png": "[encoded data removed]",
      "text/plain": [
       "<Figure size 1080x360 with 3 Axes>"
      ]
     },
     "metadata": {
      "needs_background": "light"
     },
     "output_type": "display_data"
    }
   ],
   "source": [
    "plt.figure(figsize=(15, 5))\n",
    "\n",
    "plt.subplot(1, 3, 1)\n",
    "plt.hist(próba_bernoulli, bins=[-0.5, 0.5, 1.5], edgecolor='black', align='mid')\n",
    "plt.title('Rozkład Bernoulliego')\n",
    "plt.xlabel('Wartość')\n",
    "plt.ylabel('Liczebność')\n",
    "\n",
    "plt.subplot(1, 3, 2)\n",
    "plt.hist(próba_dwumianowy, bins=np.arange(0, n_dwumianowy + 2) - 0.5, edgecolor='black', align='mid')\n",
    "plt.title('Rozkład dwumianowy')\n",
    "plt.xlabel('Wartość')\n",
    "plt.ylabel('Liczebność')\n",
    "\n",
    "plt.subplot(1, 3, 3)\n",
    "plt.hist(próba_poisson, bins=np.arange(0, max(próba_poisson) + 2) - 0.5, edgecolor='black', align='mid')\n",
    "plt.title('Rozkład Poissona')\n",
    "plt.xlabel('Wartość')\n",
    "plt.ylabel('Liczebność')\n",
    "\n",
    "plt.tight_layout()\n",
    "plt.show()"
   ]
  },
  {
   "cell_type": "code",
   "execution_count": 17,
   "id": "731cc6d5",
   "metadata": {},
   "outputs": [],
   "source": [
    "#Zadanie5"
   ]
  },
  {
   "cell_type": "code",
   "execution_count": 18,
   "id": "07609b9d",
   "metadata": {},
   "outputs": [
    {
     "data": {
      "image/png": "[encoded data removed]",
      "text/plain": [
       "<Figure size 432x288 with 1 Axes>"
      ]
     },
     "metadata": {
      "needs_background": "light"
     },
     "output_type": "display_data"
    },
    {
     "name": "stdout",
     "output_type": "stream",
     "text": [
      "Suma prawdopodobieństw: 0.9999999999999987\n"
     ]
    }
   ],
   "source": [
    "n_dwumianowy = 20\n",
    "p_dwumianowy = 0.4\n",
    "\n",
    "x_dwumianowy = np.arange(0, n_dwumianowy + 1)\n",
    "\n",
    "pmf_dwumianowy = binom.pmf(x_dwumianowy, n_dwumianowy, p_dwumianowy)\n",
    "\n",
    "plt.bar(x_dwumianowy, pmf_dwumianowy, edgecolor='black')\n",
    "plt.title('Rozkład prawdopodobieństwa dwumianowego')\n",
    "plt.xlabel('Wartość (k)')\n",
    "plt.ylabel('Prawdopodobieństwo')\n",
    "\n",
    "plt.show()\n",
    "\n",
    "suma_prawdopodobienstw = np.sum(pmf_dwumianowy)\n",
    "print(f\"Suma prawdopodobieństw: {suma_prawdopodobienstw}\")"
   ]
  },
  {
   "cell_type": "code",
   "execution_count": 21,
   "id": "a7c56fda",
   "metadata": {},
   "outputs": [],
   "source": [
    "#Zadanie 6\n",
    "from scipy.stats import describe\n"
   ]
  },
  {
   "cell_type": "code",
   "execution_count": 22,
   "id": "98eba21e",
   "metadata": {},
   "outputs": [
    {
     "name": "stdout",
     "output_type": "stream",
     "text": [
      "Statystyki opisowe dla danych normalnych:\n",
      "DescribeResult(nobs=100, minmax=(-5.393773285883143, 4.891503959233653), mean=0.06504211564003691, variance=4.374291290226092, skewness=-0.016277169431607105, kurtosis=-0.1947404703339397)\n",
      "\n",
      "Wartości teoretyczne:\n",
      "Średnia teoretyczna: 0\n",
      "Odchylenie standardowe teoretyczne: 2\n"
     ]
    },
    {
     "data": {
      "image/png": "[encoded data removed]",
      "text/plain": [
       "<Figure size 432x288 with 1 Axes>"
      ]
     },
     "metadata": {
      "needs_background": "light"
     },
     "output_type": "display_data"
    }
   ],
   "source": [
    "srednia = 0\n",
    "odchylenie_standardowe = 2\n",
    "\n",
    "liczba_danych = 100\n",
    "dane_normalne = np.random.normal(srednia, odchylenie_standardowe, liczba_danych)\n",
    "\n",
    "statystyki_opisowe = describe(dane_normalne)\n",
    "\n",
    "print(\"Statystyki opisowe dla danych normalnych:\")\n",
    "print(statystyki_opisowe)\n",
    "\n",
    "print(\"\\nWartości teoretyczne:\")\n",
    "print(\"Średnia teoretyczna:\", srednia)\n",
    "print(\"Odchylenie standardowe teoretyczne:\", odchylenie_standardowe)\n",
    "\n",
    "plt.hist(dane_normalne, bins=20, edgecolor='black')\n",
    "plt.title('Histogram danych normalnych')\n",
    "plt.xlabel('Wartość')\n",
    "plt.ylabel('Liczebność')\n",
    "plt.show()"
   ]
  },
  {
   "cell_type": "code",
   "execution_count": 23,
   "id": "92c0a25d",
   "metadata": {},
   "outputs": [
    {
     "name": "stdout",
     "output_type": "stream",
     "text": [
      "Statystyki opisowe dla danych normalnych:\n",
      "DescribeResult(nobs=1000, minmax=(-5.842700966989215, 6.386215135689722), mean=0.16161500714730817, variance=3.9907065203409786, skewness=0.010472534185838423, kurtosis=-0.037455164877563174)\n",
      "\n",
      "Wartości teoretyczne:\n",
      "Średnia teoretyczna: 0\n",
      "Odchylenie standardowe teoretyczne: 2\n"
     ]
    },
    {
     "data": {
      "image/png": "[encoded data removed]",
      "text/plain": [
       "<Figure size 432x288 with 1 Axes>"
      ]
     },
     "metadata": {
      "needs_background": "light"
     },
     "output_type": "display_data"
    }
   ],
   "source": [
    "liczba_danych = 1000\n",
    "dane_normalne = np.random.normal(srednia, odchylenie_standardowe, liczba_danych)\n",
    "\n",
    "statystyki_opisowe = describe(dane_normalne)\n",
    "\n",
    "print(\"Statystyki opisowe dla danych normalnych:\")\n",
    "print(statystyki_opisowe)\n",
    "\n",
    "print(\"\\nWartości teoretyczne:\")\n",
    "print(\"Średnia teoretyczna:\", srednia)\n",
    "print(\"Odchylenie standardowe teoretyczne:\", odchylenie_standardowe)\n",
    "\n",
    "plt.hist(dane_normalne, bins=20, edgecolor='black')\n",
    "plt.title('Histogram danych normalnych')\n",
    "plt.xlabel('Wartość')\n",
    "plt.ylabel('Liczebność')\n",
    "plt.show()"
   ]
  },
  {
   "cell_type": "markdown",
   "id": "a663911d",
   "metadata": {},
   "source": [
    "Zmiana ilości danych nie wpłynęła za bardzo na zmianę wyników, chociaż dane wyglądają na bardziej znormalizowane patrząc po histogramie"
   ]
  },
  {
   "cell_type": "code",
   "execution_count": 27,
   "id": "1519680d",
   "metadata": {},
   "outputs": [],
   "source": [
    "#Zadanie7"
   ]
  },
  {
   "cell_type": "code",
   "execution_count": 29,
   "id": "4dea4b82",
   "metadata": {},
   "outputs": [
    {
     "data": {
      "image/png": "[encoded data removed]",
      "text/plain": [
       "<Figure size 432x288 with 1 Axes>"
      ]
     },
     "metadata": {
      "needs_background": "light"
     },
     "output_type": "display_data"
    }
   ],
   "source": [
    "mu1, sigma1 = 1, 2\n",
    "mu2, sigma2 = -1, 0.5\n",
    "\n",
    "dane_normalne = np.random.normal(mu1, sigma1, 1000)\n",
    "\n",
    "plt.hist(dane_normalne, bins=30, density=True, alpha=0.7, color='blue', edgecolor='black', label='Normalny (mu=1, sigma=2)')\n",
    "\n",
    "x_standardowy = np.linspace(-5, 5, 100)\n",
    "y_standardowy = np.exp(-(x_standardowy - 0)**2 / (2 * 1**2)) / (np.sqrt(2 * np.pi) * 1)\n",
    "plt.plot(x_standardowy, y_standardowy, 'r--', label='Standardowy')\n",
    "\n",
    "x_gestosc = np.linspace(-5, 5, 100)\n",
    "y_gestosc = np.exp(-(x_gestosc - mu2)**2 / (2 * sigma2**2)) / (np.sqrt(2 * np.pi) * sigma2)\n",
    "plt.plot(x_gestosc, y_gestosc, 'g-.', label='Gęstość (mu=-1, sigma=0.5)')\n",
    "\n",
    "plt.title('Histogram i Wykresy Gęstości Rozkładów Normalnych')\n",
    "plt.xlabel('Wartość')\n",
    "plt.ylabel('Gęstość prawdopodobieństwa')\n",
    "plt.legend()\n",
    "\n",
    "plt.show()"
   ]
  },
  {
   "cell_type": "code",
   "execution_count": null,
   "id": "34159981",
   "metadata": {},
   "outputs": [],
   "source": []
  }
 ],
 "metadata": {
  "kernelspec": {
   "display_name": "Python 3",
   "language": "python",
   "name": "python3"
  },
  "language_info": {
   "codemirror_mode": {
    "name": "ipython",
    "version": 3
   },
   "file_extension": ".py",
   "mimetype": "text/x-python",
   "name": "python",
   "nbconvert_exporter": "python",
   "pygments_lexer": "ipython3",
   "version": "3.8.8"
  }
 },
 "nbformat": 4,
 "nbformat_minor": 5
}
